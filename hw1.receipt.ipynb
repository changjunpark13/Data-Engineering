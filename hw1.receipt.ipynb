{
 "cells": [
  {
   "cell_type": "markdown",
   "metadata": {},
   "source": [
    "## 과제 1: Receipts for Lovely Loveseats"
   ]
  },
  {
   "cell_type": "code",
   "execution_count": null,
   "metadata": {},
   "outputs": [],
   "source": [
    "# 과제 1: Receipts for Lovely Loveseats\n",
    "\"\"\"\n",
    "We've decided to pursue the dream of small-business ownership and open up a furniture store called Lovely Loveseats for Neat Suites on\n",
    "Fleet Street. With our newfound knowledge of Python programming, we're going to build a system to help speed up the process of creating\n",
    "receipts for your customers.\n",
    "In this project, we will be storing the names and prices of a furniture store's catalog in variables. You will then process the total \n",
    "price and item list of customers, printing them to the output terminal.\n",
    "\"\"\""
   ]
  },
  {
   "cell_type": "code",
   "execution_count": 1,
   "metadata": {},
   "outputs": [
    {
     "name": "stdout",
     "output_type": "stream",
     "text": [
      "lovely_loveseat_description: Lovely Loveseat. Tufted polyester blend on wood. 32 inches high x 40 inches wide x 30 inches deep. Red or white\n"
     ]
    }
   ],
   "source": [
    "# Tasks\n",
    "# Adding In The Catalog\n",
    "\"\"\"\n",
    "1. Let's add in our first item, the Lovely Loveseat that is the store's namesake. Create a variable called lovely_loveseat_description\n",
    "   and assign to it the following string: Lovely Loveseat. Tufted polyester blend on wood. 32 inches high x 40 inches wide x 30 inches\n",
    "   deep. Red or white\n",
    "\"\"\"\n",
    "lovely_loveseat_description = \"Lovely Loveseat. Tufted polyester blend on wood. 32 inches high x 40 inches wide x 30 inches deep. Red or white\"\n",
    "print(\"lovely_loveseat_description:\", lovely_loveseat_description)"
   ]
  },
  {
   "cell_type": "code",
   "execution_count": 2,
   "metadata": {},
   "outputs": [
    {
     "name": "stdout",
     "output_type": "stream",
     "text": [
      "lovely_loveseat_price: 254.0\n"
     ]
    }
   ],
   "source": [
    "\"\"\"\n",
    "2. Great, now let’s create a price for the loveseat. Create a variable lovely_loveseat_price and set it equal to 254.00.\n",
    "\"\"\"\n",
    "lovely_loveseat_price = 254.00\n",
    "print(\"lovely_loveseat_price:\", lovely_loveseat_price)"
   ]
  },
  {
   "cell_type": "code",
   "execution_count": 3,
   "metadata": {},
   "outputs": [
    {
     "name": "stdout",
     "output_type": "stream",
     "text": [
      "stylish_settee_description: Stylish Settee. Faux leather on birch. 29.50 inches high x 54.75 wide x 28 inches deep. Black.\n"
     ]
    }
   ],
   "source": [
    "\"\"\"\n",
    "3. Let's extend our inventory with another characteristic piece of furniture! Create a variable called stylish_settee_description and\n",
    "   assign to it the following string: Stylish Settee. Faux leather on birch. 29.50 inches high x 54.75 wide x 28 inches deep. Black.\n",
    "\"\"\"\n",
    "stylish_settee_description = \"Stylish Settee. Faux leather on birch. 29.50 inches high x 54.75 wide x 28 inches deep. Black.\"\n",
    "print(\"stylish_settee_description:\", stylish_settee_description)"
   ]
  },
  {
   "cell_type": "code",
   "execution_count": 4,
   "metadata": {},
   "outputs": [
    {
     "name": "stdout",
     "output_type": "stream",
     "text": [
      "stylish_settee_price: 180.5\n"
     ]
    }
   ],
   "source": [
    "\"\"\"\n",
    "4. Now let's set the price for our Stylish Settee. Create a variable stylish_settee_price and assign it the value of 180.50.\n",
    "\"\"\"\n",
    "stylish_settee_price = 180.50\n",
    "print(\"stylish_settee_price:\", stylish_settee_price)"
   ]
  },
  {
   "cell_type": "code",
   "execution_count": 5,
   "metadata": {},
   "outputs": [
    {
     "name": "stdout",
     "output_type": "stream",
     "text": [
      "luxurious_lamp_description: Luxurious Lamp. Glass and iron. 36 inches tall. Brown with cream shade.\n"
     ]
    }
   ],
   "source": [
    "\"\"\"\n",
    "5. Fantastic, we just need one more item before we're ready for business. Create a new variable called luxurious_lamp_description and\n",
    "   assign it the following: Luxurious Lamp. Glass and iron. 36 inches tall. Brown with cream shade.\n",
    "\"\"\"\n",
    "luxurious_lamp_description = \"Luxurious Lamp. Glass and iron. 36 inches tall. Brown with cream shade.\"\n",
    "print(\"luxurious_lamp_description:\", luxurious_lamp_description)"
   ]
  },
  {
   "cell_type": "code",
   "execution_count": 6,
   "metadata": {},
   "outputs": [
    {
     "name": "stdout",
     "output_type": "stream",
     "text": [
      "luxurious_lamp_price: 52.15\n"
     ]
    }
   ],
   "source": [
    "\"\"\"\n",
    "6. Let's set the price for this item. Create a variable called luxurious_lamp_price and set it equal to 52.15.\n",
    "\"\"\"\n",
    "luxurious_lamp_price = 52.15\n",
    "print(\"luxurious_lamp_price:\", luxurious_lamp_price)"
   ]
  },
  {
   "cell_type": "code",
   "execution_count": 7,
   "metadata": {},
   "outputs": [
    {
     "name": "stdout",
     "output_type": "stream",
     "text": [
      "sales_tax: 0.088\n"
     ]
    }
   ],
   "source": [
    "\"\"\"\n",
    "7. In order to be a business, we should also be calculating sales tax. Let's store that in a variable as well.\n",
    "\"\"\"\n",
    "# Define the varidable sales_tax and set it equal to .088. that's 8.8%.\n",
    "sales_tax = .088\n",
    "print(\"sales_tax:\", sales_tax)"
   ]
  },
  {
   "cell_type": "code",
   "execution_count": 8,
   "metadata": {},
   "outputs": [
    {
     "name": "stdout",
     "output_type": "stream",
     "text": [
      "customer_one_total: 0\n"
     ]
    }
   ],
   "source": [
    "# Our First Customer\n",
    "\"\"\"\n",
    "8. Our first customer is making their purchase! Let's keep a running tally of their expenses by defining a variable called \n",
    "   customer_one_total. Since they haven't purchased anything yet, let's set that variable equal to 0 for now.\n",
    "\"\"\"\n",
    "customer_one_total = 0\n",
    "print(\"customer_one_total:\", customer_one_total)"
   ]
  },
  {
   "cell_type": "code",
   "execution_count": 9,
   "metadata": {},
   "outputs": [
    {
     "name": "stdout",
     "output_type": "stream",
     "text": [
      "customer_one_itemization: \n"
     ]
    }
   ],
   "source": [
    "\"\"\"\n",
    "9. We should also keep a list of the descriptions of things they're purchasing. Create a variable called customer_one_itemiztion and\n",
    "   set that equal to the empty string \"\". We'll tack on the descriptions to this as they make their purchases.\n",
    "\"\"\"\n",
    "customer_one_itemization = \"\"\n",
    "print(\"customer_one_itemization:\", customer_one_itemization)"
   ]
  },
  {
   "cell_type": "code",
   "execution_count": 10,
   "metadata": {},
   "outputs": [
    {
     "name": "stdout",
     "output_type": "stream",
     "text": [
      "customer_one_total: 254.0\n"
     ]
    }
   ],
   "source": [
    "\"\"\"\n",
    "10. Our customer has decided they are going to purchase our Lovely Loveseat! Add the price to customer_one_total.\n",
    "\"\"\"\n",
    "customer_one_total += lovely_loveseat_price\n",
    "print(\"customer_one_total:\", customer_one_total)"
   ]
  },
  {
   "cell_type": "code",
   "execution_count": 11,
   "metadata": {},
   "outputs": [
    {
     "name": "stdout",
     "output_type": "stream",
     "text": [
      "customer_one_itemization: Lovely Loveseat. Tufted polyester blend on wood. 32 inches high x 40 inches wide x 30 inches deep. Red or white\n"
     ]
    }
   ],
   "source": [
    "\"\"\"\n",
    "11. Let's start keeping track of the items our customer purchased. Add the description of the Lovely Loveseat to customer_one_itemization.\n",
    "\"\"\"\n",
    "customer_one_itemization += lovely_loveseat_description\n",
    "print(\"customer_one_itemization:\", customer_one_itemization)"
   ]
  },
  {
   "cell_type": "code",
   "execution_count": 12,
   "metadata": {},
   "outputs": [
    {
     "name": "stdout",
     "output_type": "stream",
     "text": [
      "customer_one_total: 306.15\n"
     ]
    }
   ],
   "source": [
    "\"\"\"\n",
    "12. Our customer has also decided to purchase the Luxurious Lamp! Let's add the price to the customer's total.\n",
    "\"\"\"\n",
    "customer_one_total += luxurious_lamp_price\n",
    "print(\"customer_one_total:\", customer_one_total)"
   ]
  },
  {
   "cell_type": "code",
   "execution_count": 13,
   "metadata": {},
   "outputs": [
    {
     "name": "stdout",
     "output_type": "stream",
     "text": [
      "customer_one_itemization: Lovely Loveseat. Tufted polyester blend on wood. 32 inches high x 40 inches wide x 30 inches deep. Red or whiteLuxurious Lamp. Glass and iron. 36 inches tall. Brown with cream shade.\n"
     ]
    }
   ],
   "source": [
    "\"\"\"\n",
    "13. Let's keep the itemization up-to-date and add the description of the Luxurious Lamp to our itemization.\n",
    "\"\"\"\n",
    "customer_one_itemization += luxurious_lamp_description\n",
    "print(\"customer_one_itemization:\", customer_one_itemization)"
   ]
  },
  {
   "cell_type": "code",
   "execution_count": 14,
   "metadata": {},
   "outputs": [
    {
     "name": "stdout",
     "output_type": "stream",
     "text": [
      "customer_one_tax: 26.94\n"
     ]
    }
   ],
   "source": [
    "\"\"\"\n",
    "14. They’re ready to check out! Let's begin by calculating sales tax. Create a variable called customer_one_tax and set it equal to \n",
    "    customer_one_total times sales_tax.\n",
    "\"\"\"\n",
    "customer_one_tax = customer_one_total * sales_tax\n",
    "print(\"customer_one_tax:\", round(customer_one_tax,2))"
   ]
  },
  {
   "cell_type": "code",
   "execution_count": 15,
   "metadata": {},
   "outputs": [
    {
     "name": "stdout",
     "output_type": "stream",
     "text": [
      "customer_one_total: 333.09\n"
     ]
    }
   ],
   "source": [
    "\"\"\"\n",
    "15. Add the sales tax to the customer's total cost.\n",
    "\"\"\"\n",
    "customer_one_total += customer_one_tax\n",
    "print(\"customer_one_total:\", round(customer_one_total,2))"
   ]
  },
  {
   "cell_type": "code",
   "execution_count": 16,
   "metadata": {},
   "outputs": [
    {
     "name": "stdout",
     "output_type": "stream",
     "text": [
      "Customer One Items: Lovely Loveseat. Tufted polyester blend on wood. 32 inches high x 40 inches wide x 30 inches deep. Red or whiteLuxurious Lamp. Glass and iron. 36 inches tall. Brown with cream shade.\n"
     ]
    }
   ],
   "source": [
    "\"\"\"\n",
    "16-17. Let's start printing up their receipt! Begin by printing out the heading for their itemization. Print the phrase\n",
    "       \"Customer One Items:\" print customer_one_itemization.\n",
    "\"\"\"\n",
    "print(\"Customer One Items:\", customer_one_itemization)"
   ]
  },
  {
   "cell_type": "code",
   "execution_count": 17,
   "metadata": {},
   "outputs": [
    {
     "name": "stdout",
     "output_type": "stream",
     "text": [
      "Customer One Total: 333.09\n"
     ]
    }
   ],
   "source": [
    "\"\"\"\n",
    "18-19. Now add a heading for their total cost: Print out \"Customer One Total:\". Now print out their total! Our first customer \n",
    "       now has a receipt for the things they purchased.\n",
    "\"\"\"\n",
    "print(\"Customer One Total:\", round(customer_one_total,2))"
   ]
  },
  {
   "cell_type": "code",
   "execution_count": 18,
   "metadata": {},
   "outputs": [
    {
     "name": "stdout",
     "output_type": "stream",
     "text": [
      "Customer One Items:Lovely Loveseat. Tufted polyester blend on wood. 32 inches high x 40 inches wide x 30 inches deep. Red or whiteLuxurious Lamp. Glass and iron. 36 inches tall. Brown with cream shade.\n",
      "Customer One Total:333.09\n"
     ]
    }
   ],
   "source": [
    "\"\"\"\n",
    "20. Congratulations! We created our catalog and served our first customer. We used our knowledge of strings and numbers to create \n",
    "    and update variables. We were able to print out an itemized list and a total cost for our customer. Lovely!\n",
    "\"\"\"\n",
    "print(\"Customer One Items:\" + str(customer_one_itemization))\n",
    "print(\"Customer One Total:\" + str(round(customer_one_total,2)))"
   ]
  },
  {
   "cell_type": "code",
   "execution_count": null,
   "metadata": {},
   "outputs": [],
   "source": []
  }
 ],
 "metadata": {
  "kernelspec": {
   "display_name": "Python 3",
   "language": "python",
   "name": "python3"
  },
  "language_info": {
   "codemirror_mode": {
    "name": "ipython",
    "version": 3
   },
   "file_extension": ".py",
   "mimetype": "text/x-python",
   "name": "python",
   "nbconvert_exporter": "python",
   "pygments_lexer": "ipython3",
   "version": "3.7.3"
  }
 },
 "nbformat": 4,
 "nbformat_minor": 2
}
