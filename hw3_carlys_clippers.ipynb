{
 "cells": [
  {
   "cell_type": "markdown",
   "metadata": {},
   "source": [
    "## 과제 3: Carly's Clippers"
   ]
  },
  {
   "cell_type": "code",
   "execution_count": 1,
   "metadata": {},
   "outputs": [
    {
     "name": "stdout",
     "output_type": "stream",
     "text": [
      "hairstyles: ['bouffant', 'pixie', 'dreadlocks', 'crew', 'bowl', 'bob', 'mohawk', 'flattop']\n",
      "prices: [30, 25, 40, 20, 20, 35, 50, 35]\n",
      "last_week: [2, 3, 5, 8, 4, 4, 6, 2]\n"
     ]
    }
   ],
   "source": [
    "# 0번\n",
    "\"\"\"\n",
    "You are the Data Analyst at Carly's Clippers, the newest hair salon on the block. Your job is to go through the lists of \n",
    "data that have been collected in the past couple of weeks. You will be calculating some important metrics that Carly can \n",
    "use to plan out the operation of the business for the rest of the month.\n",
    "\"\"\"\n",
    "\"\"\"\n",
    "Each index in hairstyles corresponds to an associated index in prices and last_week.\n",
    "For example, The hairstyle \"bouffant\" has an associated price of 30 from the prices list, and was purchased 2 times in the \n",
    "last week as shown in the last_week list. Each of these elements are in the first index of their respective lists.\n",
    "Let's get started!\n",
    "\"\"\"\n",
    "# You have been provided with three lists: hairstyles: the names of the cuts offered at Carly's Clippers.\n",
    "hairstyles = [\"bouffant\", \"pixie\", \"dreadlocks\", \"crew\", \"bowl\", \"bob\", \"mohawk\", \"flattop\"]\n",
    "print(\"hairstyles:\", hairstyles)\n",
    "\n",
    "# prices: the price of each hairstyle in the hairstyles list.\n",
    "prices = [30, 25, 40, 20, 20, 35, 50, 35]\n",
    "print(\"prices:\", prices)\n",
    "\n",
    "# last_week: the number of purchases for each hairstyle type in the last week.\n",
    "last_week = [2, 3, 5, 8, 4, 4, 6, 2]\n",
    "print(\"last_week:\", last_week)"
   ]
  },
  {
   "cell_type": "code",
   "execution_count": 2,
   "metadata": {},
   "outputs": [
    {
     "name": "stdout",
     "output_type": "stream",
     "text": [
      "total_price: 0\n"
     ]
    }
   ],
   "source": [
    "# Prices and Cuts:\n",
    "\n",
    "# 1번\n",
    "\"\"\"\n",
    "Carly wants to be able to market her low prices. We want to find out what the average price of a cut is. First, \n",
    "let's sum up all the prices of haircuts. Create a variable total_price, and set it to 0.\n",
    "\"\"\"\n",
    "total_price = 0\n",
    "print(\"total_price:\", total_price)"
   ]
  },
  {
   "cell_type": "code",
   "execution_count": 3,
   "metadata": {},
   "outputs": [
    {
     "name": "stdout",
     "output_type": "stream",
     "text": [
      "Loop: 255\n"
     ]
    }
   ],
   "source": [
    "# 2번\n",
    "\"\"\"\n",
    "Loop through the prices list and add each price to the variable total_price.\n",
    "\"\"\"\n",
    "for a in range(len(prices)):\n",
    "    total_price += prices[a]\n",
    "print(\"Loop:\", total_price)"
   ]
  },
  {
   "cell_type": "code",
   "execution_count": 4,
   "metadata": {},
   "outputs": [
    {
     "name": "stdout",
     "output_type": "stream",
     "text": [
      "average_price: 31.875\n"
     ]
    }
   ],
   "source": [
    "# 3번 #4번\n",
    "\"\"\"\n",
    "After your loop, create a variable called average_price that is the total_price divided by the number of prices. \n",
    "You can get the number of prices by using the len() function.\n",
    "\"\"\"\n",
    "average_price = total_price / len(prices)\n",
    "\n",
    "# Print the value of average_price.\n",
    "print(\"average_price:\", average_price)"
   ]
  },
  {
   "cell_type": "code",
   "execution_count": 5,
   "metadata": {},
   "outputs": [
    {
     "name": "stdout",
     "output_type": "stream",
     "text": [
      "new_prices: [25, 20, 35, 15, 15, 30, 45, 30]\n"
     ]
    }
   ],
   "source": [
    "# Expected Output: Average price is 31.875\n",
    "# 5번 # 6번\n",
    "\"\"\"\n",
    "That average price is more expensive than Carly thought it would be! She wants to cut all prices by 5 dollars.\n",
    "Use a list comprehension to make a list called new_prices, which has each element in prices minus 5.\n",
    "\"\"\"\n",
    "new_prices = [a - 5 for a in prices]\n",
    "\n",
    "# Print new_prices.\n",
    "print(\"new_prices:\", new_prices)"
   ]
  },
  {
   "cell_type": "code",
   "execution_count": 6,
   "metadata": {},
   "outputs": [
    {
     "name": "stdout",
     "output_type": "stream",
     "text": [
      "total_revenue: 0\n"
     ]
    }
   ],
   "source": [
    "# Revenue:\n",
    "# 7번\n",
    "\"\"\"\n",
    "Carly really wants to make sure that Carly's Clippers is a profitable endeavor. She first wants to know how much revenue was brought \n",
    "in last week. Create a variable called total_revenue and set it to 0.\n",
    "\"\"\"\n",
    "total_revenue = 0\n",
    "print(\"total_revenue:\", total_revenue)"
   ]
  },
  {
   "cell_type": "code",
   "execution_count": 7,
   "metadata": {},
   "outputs": [
    {
     "name": "stdout",
     "output_type": "stream",
     "text": [
      "total_revenue: 1085\n"
     ]
    }
   ],
   "source": [
    "# 8번 add # 9번 # 10번\n",
    "\"\"\"\n",
    "Use a for loop to create a variable i that goes from 0 to len(hairstyles) Hint: You can use range() to do this!\n",
    "\"\"\"\n",
    "\"\"\"\n",
    "Add the product of prices[i] (the price of the haircut at position i) and last_week[i] (the number of people who got the haircut \n",
    "at position i) to total_revenue at each step.\n",
    "\"\"\"\n",
    "for a in range(len(hairstyles)):\n",
    "    total_revenue += prices[a] * last_week[a]\n",
    "    \n",
    "# After your loop, print the value of total_revenue.\n",
    "print(\"total_revenue:\", total_revenue)"
   ]
  },
  {
   "cell_type": "code",
   "execution_count": 8,
   "metadata": {},
   "outputs": [
    {
     "name": "stdout",
     "output_type": "stream",
     "text": [
      "Average_daily_revenue: 155.0\n"
     ]
    }
   ],
   "source": [
    "# 11번\n",
    "\"\"\"\n",
    "Find the average daily revenue by dividing total_revenue by 7. Call this number average_daily_revenue and print it out.\n",
    "\"\"\"\n",
    "average_daily_revenue = total_revenue/7\n",
    "print(\"Average_daily_revenue:\", average_daily_revenue)"
   ]
  },
  {
   "cell_type": "code",
   "execution_count": 9,
   "metadata": {},
   "outputs": [
    {
     "name": "stdout",
     "output_type": "stream",
     "text": [
      "cuts_under_30: ['bouffant', 'pixie', 'crew', 'bowl']\n"
     ]
    }
   ],
   "source": [
    "# 12번 # 13번\n",
    "\"\"\"\n",
    "Carly thinks she can bring in more customers by advertising all of the haircuts she has that are under 30 dollars.\n",
    "Use a list comprehension to create a list called cuts_under_30 that has the entry hairstyles[i] for each i for which \n",
    "new_prices[i] is less than 30. You can use range() in your list comprehension to make i go from 0 to len(new_prices) - 1.\n",
    "\"\"\"\n",
    "cuts_under_30 = [hairstyles[a] for a in range(len(new_prices)-1) if new_prices[a]<30]\n",
    "print(\"cuts_under_30:\", cuts_under_30)"
   ]
  },
  {
   "cell_type": "code",
   "execution_count": null,
   "metadata": {},
   "outputs": [],
   "source": []
  }
 ],
 "metadata": {
  "kernelspec": {
   "display_name": "Python 3",
   "language": "python",
   "name": "python3"
  },
  "language_info": {
   "codemirror_mode": {
    "name": "ipython",
    "version": 3
   },
   "file_extension": ".py",
   "mimetype": "text/x-python",
   "name": "python",
   "nbconvert_exporter": "python",
   "pygments_lexer": "ipython3",
   "version": "3.7.3"
  }
 },
 "nbformat": 4,
 "nbformat_minor": 2
}
