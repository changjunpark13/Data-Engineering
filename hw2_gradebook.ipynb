{
 "cells": [
  {
   "cell_type": "markdown",
   "metadata": {},
   "source": [
    "## 과제2: Gradebook"
   ]
  },
  {
   "cell_type": "code",
   "execution_count": null,
   "metadata": {},
   "outputs": [],
   "source": [
    "\"\"\"\n",
    "You are a student and you are trying to organize your subjects and grades using Python.\n",
    "Let's explore what we've learned about lists to organize your subjects and scores.\n",
    "\"\"\""
   ]
  },
  {
   "cell_type": "code",
   "execution_count": 1,
   "metadata": {},
   "outputs": [
    {
     "name": "stdout",
     "output_type": "stream",
     "text": [
      "subjects: ['physics', 'calculus', 'poetry', 'history']\n"
     ]
    }
   ],
   "source": [
    "# Create Some Lists:\n",
    "\"\"\"\n",
    "1. Create a list called subjects and fill it with the classes you are taking: \"physics\", \"calculus\", \"poetry\", \"history\"\n",
    "\"\"\"\n",
    "subjects = [\"physics\", \"calculus\", \"poetry\", \"history\"] # 리스트 만들기\n",
    "print(\"subjects:\", subjects)"
   ]
  },
  {
   "cell_type": "code",
   "execution_count": 2,
   "metadata": {},
   "outputs": [
    {
     "name": "stdout",
     "output_type": "stream",
     "text": [
      "grades: [98, 97, 85, 88]\n"
     ]
    }
   ],
   "source": [
    "\"\"\"\n",
    "2. Create a list called grades and fill it with scores: 98, 97, 85, 88\n",
    "\"\"\"\n",
    "grades = [98, 97, 85, 88] # 리스트 만들기\n",
    "print(\"grades:\", grades)"
   ]
  },
  {
   "cell_type": "code",
   "execution_count": 3,
   "metadata": {},
   "outputs": [
    {
     "name": "stdout",
     "output_type": "stream",
     "text": [
      "gradebook: [['physics', 98], ['calculus', 97], ['poetry', 85], ['history', 88]]\n"
     ]
    }
   ],
   "source": [
    "\"\"\"\n",
    "3-4. Manually (without any methods) create a two-dimensional list to combine subjects and grades. Use the table below as a reference \n",
    "   to associated values. Assign the value into a variable called gradebook. Print gradebook.\n",
    "\"\"\"\n",
    "gradebook = [[\"physics\", 98], [\"calculus\", 97], [\"poetry\", 85], [\"history\", 88]] # 리스트 만들기\n",
    "print(\"gradebook:\", gradebook)"
   ]
  },
  {
   "cell_type": "code",
   "execution_count": 4,
   "metadata": {},
   "outputs": [
    {
     "name": "stdout",
     "output_type": "stream",
     "text": [
      "gradebook: [['physics', 98], ['calculus', 97], ['poetry', 85], ['history', 88], ['computer science', 100]]\n"
     ]
    }
   ],
   "source": [
    "\"\"\"\n",
    "5. Your grade for your computer science class just came in! You got a perfect score, 100! Use the .append() method to add a list \n",
    "   with the values of \"computer science\" and an associated grade value of 100 to our two-dimensional list of gradebook.\n",
    "\"\"\"\n",
    "gradebook.append([\"computer science\", 100]) # 리스트 요소 추가\n",
    "print(\"gradebook:\", gradebook)"
   ]
  },
  {
   "cell_type": "code",
   "execution_count": 5,
   "metadata": {},
   "outputs": [
    {
     "name": "stdout",
     "output_type": "stream",
     "text": [
      "gradebook: [['physics', 98], ['calculus', 97], ['poetry', 85], ['history', 88], ['computer science', 100], ['visual arts', 93]]\n"
     ]
    }
   ],
   "source": [
    "\"\"\"\n",
    "6. Your grade for \"visual arts\" just came in! You got a 93! Use append to add [\"visual arts\", 93] to gradebook.\n",
    "\"\"\"\n",
    "gradebook.append([\"visual arts\", 93]) # 리스트 요소 추가\n",
    "print(\"gradebook:\", gradebook)"
   ]
  },
  {
   "cell_type": "code",
   "execution_count": 6,
   "metadata": {},
   "outputs": [
    {
     "name": "stdout",
     "output_type": "stream",
     "text": [
      "gradebook: [['physics', 98], ['calculus', 97], ['poetry', 85], ['history', 88], ['computer science', 100], ['visual arts', 98]]\n"
     ]
    }
   ],
   "source": [
    "# Modify The Gradebook:\n",
    "\"\"\"\n",
    "7. Our instructor just told us they made a mistake grading and are rewarding an extra 5 points for our visual arts class.\n",
    "   Access the index of the grade for your visual arts class and modify it to be 5 points greater.\n",
    "\"\"\"\n",
    "gradebook[-1].remove(93)\n",
    "gradebook[-1].append(98)\n",
    "print(\"gradebook:\", gradebook) # 마지막 번째: [-1] - 점수 제거 후 추가"
   ]
  },
  {
   "cell_type": "code",
   "execution_count": 8,
   "metadata": {},
   "outputs": [
    {
     "name": "stdout",
     "output_type": "stream",
     "text": [
      "gradebook: [['physics', 98], ['calculus', 97], ['poetry', 'Pass'], ['history', 88], ['computer science', 100], ['visual arts', 98]]\n"
     ]
    }
   ],
   "source": [
    "\"\"\"\n",
    "8. You decided to switch from a numerical grade value to a Pass/Fail option for your poetry class. Find the grade value in \n",
    "   your gradebook for your poetry class and use the. remove() method to delete it.\n",
    "\"\"\"\n",
    "gradebook[2].remove(85) # [2]번째에서 85 제거\n",
    "print(\"gradebook:\", gradebook)"
   ]
  },
  {
   "cell_type": "code",
   "execution_count": 7,
   "metadata": {},
   "outputs": [
    {
     "name": "stdout",
     "output_type": "stream",
     "text": [
      "gradebook: [['physics', 98], ['calculus', 97], ['poetry', 85, 'Pass'], ['history', 88], ['computer science', 100], ['visual arts', 98]]\n"
     ]
    }
   ],
   "source": [
    "\"\"\"\n",
    "9. Use the .append() method to then add a new \"Pass\" value to the sublist where your poetry class is located.\n",
    "\"\"\"\n",
    "gradebook[2].append(\"Pass\") # 리스트 요소 추가\n",
    "print(\"gradebook:\", gradebook)"
   ]
  },
  {
   "cell_type": "code",
   "execution_count": 9,
   "metadata": {},
   "outputs": [
    {
     "name": "stdout",
     "output_type": "stream",
     "text": [
      "last_semester_gradebook: [['politics', 80], ['latin', 96], ['dance', 97], ['architecture', 65]]\n",
      "\n",
      "fill_gradebook [[['politics', 80], ['latin', 96], ['dance', 97], ['architecture', 65], ['physics', 98], ['calculus', 97], ['poetry', 'Pass'], ['history', 88], ['computer science', 100], ['visual arts', 98]]]\n"
     ]
    }
   ],
   "source": [
    "# One Big Gradebook!\n",
    "\"\"\"\n",
    "10. You also have your grades from last semester, stored in last_semester_gradebook.\n",
    "    Create a new variable full_gradebook that combines both last_semester_gradebook and gradebook using + \n",
    "    to have one complete grade book. Print full_gradebook to see our completed list.\n",
    "\"\"\"\n",
    "last_semester_gradebook = [[\"politics\", 80], [\"latin\", 96], [\"dance\", 97], [\"architecture\", 65]]\n",
    "full_gradebook = [last_semester_gradebook + gradebook] # 리스트 합치기\n",
    "print(\"last_semester_gradebook:\", last_semester_gradebook)\n",
    "print()\n",
    "print(\"fill_gradebook\", full_gradebook)"
   ]
  }
 ],
 "metadata": {
  "kernelspec": {
   "display_name": "Python 3",
   "language": "python",
   "name": "python3"
  },
  "language_info": {
   "codemirror_mode": {
    "name": "ipython",
    "version": 3
   },
   "file_extension": ".py",
   "mimetype": "text/x-python",
   "name": "python",
   "nbconvert_exporter": "python",
   "pygments_lexer": "ipython3",
   "version": "3.7.3"
  }
 },
 "nbformat": 4,
 "nbformat_minor": 2
}
