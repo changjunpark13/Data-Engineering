{
 "cells": [
  {
   "cell_type": "markdown",
   "metadata": {},
   "source": [
    "## 과제 5: 미국 대통령들의 키는 얼마나 컸을까?"
   ]
  },
  {
   "cell_type": "code",
   "execution_count": null,
   "metadata": {},
   "outputs": [],
   "source": [
    "# 0\n",
    "\"\"\"\n",
    "역대 미국 대통령들의 신장(height) 데이터 president_height.csv 가 있습니다.\n",
    "해당 데이터를 이용하여 역대 대통령들의 키와 관련된 기술통계(descriptive statistics) 분석을 수행하고 그 결과를 시각화하세요.\n",
    "\"\"\"\n",
    "# 출처: https://github.com/jakevdp/PythonDataScienceHandbook"
   ]
  },
  {
   "cell_type": "code",
   "execution_count": 1,
   "metadata": {},
   "outputs": [],
   "source": [
    "# 3번 : 다운로드 받은 데이터를 로딩하기 위해 Jupyter Lab에서 numpy 와 pandas 를 임포트하세요.\n",
    "import pandas as pd\n",
    "import numpy as np"
   ]
  },
  {
   "cell_type": "code",
   "execution_count": 2,
   "metadata": {},
   "outputs": [
    {
     "name": "stdout",
     "output_type": "stream",
     "text": [
      "    order                    name  height(cm)\n",
      "0       1       George Washington         189\n",
      "1       2              John Adams         170\n",
      "2       3        Thomas Jefferson         189\n",
      "3       4           James Madison         163\n",
      "4       5            James Monroe         183\n",
      "5       6       John Quincy Adams         171\n",
      "6       7          Andrew Jackson         185\n",
      "7       8        Martin Van Buren         168\n",
      "8       9  William Henry Harrison         173\n",
      "9      10              John Tyler         183\n",
      "10     11           James K. Polk         173\n",
      "11     12          Zachary Taylor         173\n",
      "12     13        Millard Fillmore         175\n",
      "13     14         Franklin Pierce         178\n",
      "14     15          James Buchanan         183\n",
      "15     16         Abraham Lincoln         193\n",
      "16     17          Andrew Johnson         178\n",
      "17     18        Ulysses S. Grant         173\n",
      "18     19     Rutherford B. Hayes         174\n",
      "19     20       James A. Garfield         183\n",
      "20     21       Chester A. Arthur         183\n",
      "21     23       Benjamin Harrison         168\n",
      "22     25        William McKinley         170\n",
      "23     26      Theodore Roosevelt         178\n",
      "24     27     William Howard Taft         182\n",
      "25     28          Woodrow Wilson         180\n",
      "26     29       Warren G. Harding         183\n",
      "27     30         Calvin Coolidge         178\n",
      "28     31          Herbert Hoover         182\n",
      "29     32   Franklin D. Roosevelt         188\n",
      "30     33         Harry S. Truman         175\n",
      "31     34    Dwight D. Eisenhower         179\n",
      "32     35         John F. Kennedy         183\n",
      "33     36       Lyndon B. Johnson         193\n",
      "34     37           Richard Nixon         182\n",
      "35     38             Gerald Ford         183\n",
      "36     39            Jimmy Carter         177\n",
      "37     40           Ronald Reagan         185\n",
      "38     41       George H. W. Bush         188\n",
      "39     42            Bill Clinton         188\n",
      "40     43          George W. Bush         182\n",
      "41     44            Barack Obama         185\n"
     ]
    }
   ],
   "source": [
    "# 4번 : pandas 라이브러리를 이용하여 신장 데이터(president_heights.csv)를 불러오세요.\n",
    "data = pd.read_csv('data/president_heights.csv')\n",
    "print(data)"
   ]
  },
  {
   "cell_type": "code",
   "execution_count": 3,
   "metadata": {},
   "outputs": [
    {
     "name": "stdout",
     "output_type": "stream",
     "text": [
      "   order               name  height(cm)\n",
      "0      1  George Washington         189\n",
      "1      2         John Adams         170\n",
      "2      3   Thomas Jefferson         189\n",
      "3      4      James Madison         163\n",
      "4      5       James Monroe         183\n"
     ]
    }
   ],
   "source": [
    "# 5번 : 데이터 불러오기가 정상적으로 완료되었다면 data.head() 코드를 실행하여 데이터의 일부를 출력하세요.\n",
    "print(data.head())"
   ]
  },
  {
   "cell_type": "code",
   "execution_count": 4,
   "metadata": {},
   "outputs": [
    {
     "name": "stdout",
     "output_type": "stream",
     "text": [
      "heights:\n",
      "[189 170 189 163 183 171 185 168 173 183 173 173 175 178 183 193 178 173\n",
      " 174 183 183 168 170 178 182 180 183 178 182 188 175 179 183 193 182 183\n",
      " 177 185 188 188 182 185]\n"
     ]
    }
   ],
   "source": [
    "# 6번 : 다음의 코드를 실행하여 전체 데이터로부터 신장 값들만 저장하는 numpy 배열을 선언하세요.\n",
    "heights = np.array(data['height(cm)'])\n",
    "print(\"heights:\")\n",
    "print(heights)"
   ]
  },
  {
   "cell_type": "code",
   "execution_count": 5,
   "metadata": {},
   "outputs": [
    {
     "name": "stdout",
     "output_type": "stream",
     "text": [
      "Mean height = 179.73809523809524\n",
      "Standard deviation = 6.931843442745892\n",
      "Minimum height = 163\n",
      "Maximum height = 193\n",
      "25th percentile = 174.25\n",
      "Median = 182.0\n",
      "75th percentile = 183.0\n"
     ]
    }
   ],
   "source": [
    "# 7번 : 배열로 저장한 신장 데이터(heights)에 대해 numpy에서 제공하는 집계함수들을 이용하여 기술통계를 수행하세요.\n",
    "print(\"Mean height =\", np.mean(heights))\n",
    "print(\"Standard deviation =\", np.std(heights))\n",
    "print(\"Minimum height =\", np.min(heights))\n",
    "print(\"Maximum height =\", np.max(heights))\n",
    "print(\"25th percentile =\", np.percentile(heights, 25))\n",
    "print(\"Median =\", np.median(heights))\n",
    "print(\"75th percentile =\", np.percentile(heights, 75))"
   ]
  },
  {
   "cell_type": "code",
   "execution_count": 6,
   "metadata": {},
   "outputs": [
    {
     "name": "stdout",
     "output_type": "stream",
     "text": [
      "max_idx = 15\n",
      "min_idx = 3\n"
     ]
    }
   ],
   "source": [
    "# 8번 : heights 로부터 키가 가장 큰 대통령의 인덱스와 가장 작은 대통령의 인덱스를 각각 max_idx, min_idx 변수에 저장 및 출력하세요.\n",
    "max_idx = np.argmax(heights)\n",
    "min_idx = np.argmin(heights)\n",
    "\n",
    "print(\"max_idx =\", max_idx)\n",
    "print(\"min_idx =\", min_idx)"
   ]
  },
  {
   "cell_type": "code",
   "execution_count": 7,
   "metadata": {},
   "outputs": [
    {
     "name": "stdout",
     "output_type": "stream",
     "text": [
      "The tallest president is Abraham Lincoln\n",
      "The smallest president is James Madison\n"
     ]
    }
   ],
   "source": [
    "# 9번 : max_idx와 min_idx 변수를 사용하여 키가 가장 큰/가장 작은 대통령들의 이름을 출력하세요.\n",
    "max_name = data.iloc[max_idx]['name']\n",
    "min_name = data.iloc[min_idx]['name']\n",
    "\n",
    "print(\"The tallest president is\", max_name)\n",
    "print(\"The smallest president is\", min_name)"
   ]
  },
  {
   "cell_type": "code",
   "execution_count": 8,
   "metadata": {},
   "outputs": [],
   "source": [
    "# 10번 : 신장 데이터 heights 를 시각화하기 위해 matplotlib.pyplot과 seaborn을 임포트하세요.\n",
    "from matplotlib import pyplot as plt\n",
    "import seaborn"
   ]
  },
  {
   "cell_type": "code",
   "execution_count": 10,
   "metadata": {},
   "outputs": [
    {
     "data": {
      "image/png": "[encoded data removed]",
      "text/plain": [
       "<Figure size 432x288 with 1 Axes>"
      ]
     },
     "metadata": {},
     "output_type": "display_data"
    }
   ],
   "source": [
    "# 11번 : 다음의 코드를 통해 시각화 옵션을 설정하고 신장 데이터 heights의 히스토그램을 시각화하여, 역대 미국 대통령들의 키 분포가 어떻게 되는지 확인하세요.\n",
    "# %matplotlib inline - 화면이 계속 깨져서 주석 처리했습니다...\n",
    "# %config InlineBackend.figure_format = 'svg' - 화면이 계속 깨져서 주석 처리했습니다...\n",
    "seaborn.set()\n",
    "\n",
    "plt.hist(heights)\n",
    "plt.title('Height Distribution of US President')\n",
    "plt.xlabel('height (cm)')\n",
    "plt.ylabel('number')\n",
    "plt.show()"
   ]
  },
  {
   "cell_type": "code",
   "execution_count": null,
   "metadata": {},
   "outputs": [],
   "source": []
  }
 ],
 "metadata": {
  "kernelspec": {
   "display_name": "Python 3",
   "language": "python",
   "name": "python3"
  },
  "language_info": {
   "codemirror_mode": {
    "name": "ipython",
    "version": 3
   },
   "file_extension": ".py",
   "mimetype": "text/x-python",
   "name": "python",
   "nbconvert_exporter": "python",
   "pygments_lexer": "ipython3",
   "version": "3.7.3"
  }
 },
 "nbformat": 4,
 "nbformat_minor": 2
}
